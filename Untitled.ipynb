{
 "cells": [
  {
   "cell_type": "code",
   "execution_count": 1,
   "id": "259f2f0c",
   "metadata": {},
   "outputs": [],
   "source": [
    "import numpy as np\n",
    "from Transactions import *"
   ]
  },
  {
   "cell_type": "markdown",
   "id": "c93fd95b",
   "metadata": {},
   "source": [
    "# Défintion de chemin de fichier des Transactions, min_support, min_conf"
   ]
  },
  {
   "cell_type": "code",
   "execution_count": 2,
   "id": "e549ca00",
   "metadata": {},
   "outputs": [],
   "source": [
    "path = \"data.txt\"\n",
    "min_support = 0.35\n",
    "min_conf = 0.5"
   ]
  },
  {
   "cell_type": "code",
   "execution_count": 3,
   "id": "08f75ea4",
   "metadata": {},
   "outputs": [],
   "source": [
    "Transactions = load_transactions(path)\n",
    "num_trans = len(Transactions)"
   ]
  },
  {
   "cell_type": "code",
   "execution_count": 4,
   "id": "9f3f482e",
   "metadata": {},
   "outputs": [
    {
     "data": {
      "text/plain": [
       "[['GPS', 'LCD', '3G', 'Bluetooth', 'Wi-Fi', 'USB', 'HDMI'],\n",
       " ['Wi-Fi', 'USB'],\n",
       " ['LCD', 'Bluetooth'],\n",
       " ['Bluetooth', 'Wi-Fi'],\n",
       " ['GPS', 'LCD', 'Bluetooth', 'Wi-Fi'],\n",
       " ['GPS', '3G', 'Bluetooth', 'Wi-Fi', 'USB', 'HDMI']]"
      ]
     },
     "execution_count": 4,
     "metadata": {},
     "output_type": "execute_result"
    }
   ],
   "source": [
    "Transactions"
   ]
  },
  {
   "cell_type": "markdown",
   "id": "ab171934",
   "metadata": {},
   "source": [
    "# Initialisation des listes C et L\n",
    "\n",
    "#### C : Dictionnaire qui stocke les différents ensembles d'articles \n",
    "#### L : Dictionnaire qui stocke les ensembles d'articles fréquents qui satisfont la condition de support minimale.\n",
    "Les transactions sont stockées dans la variable Transactions et l'ensemble de tous les éléments dans les transactions est stocké dans la variable all_items.La variable frequent_items est utilisée pour stocker tous les éléments fréquents de la taille 1.\n",
    "\n",
    "Le code parcourt ensuite chaque transaction pour créer tous les itemsets de taille 1 et stocker ces itemsets dans C. Les éléments qui apparaissent dans ces itemsets sont également stockés dans frequent_items."
   ]
  },
  {
   "cell_type": "code",
   "execution_count": 5,
   "id": "1156a971",
   "metadata": {},
   "outputs": [
    {
     "name": "stdout",
     "output_type": "stream",
     "text": [
      "Items: {'Wi-Fi', 'Bluetooth', 'LCD', 'HDMI', 'GPS', '3G', 'USB'}\n"
     ]
    }
   ],
   "source": [
    "C = {}\n",
    "L = {}\n",
    "itemset_size = 1\n",
    "\n",
    "discarded = {itemset_size : []}\n",
    "all_items = set()\n",
    "for Transaction in Transactions:\n",
    "    for item in Transaction:\n",
    "        all_items.add(item)\n",
    "\n",
    "all_items = sorted(all_items)\n",
    "C[itemset_size] = [[item] for item in all_items]\n",
    "\n",
    "frequent_items = set()\n",
    "for itemset in C[itemset_size]:\n",
    "    for item in itemset:\n",
    "        frequent_items.add(item)\n",
    "\n",
    "print(\"Items:\", frequent_items)"
   ]
  },
  {
   "cell_type": "code",
   "execution_count": 6,
   "id": "fc5a4186",
   "metadata": {},
   "outputs": [
    {
     "data": {
      "text/plain": [
       "{1: [['3G'], ['Bluetooth'], ['GPS'], ['HDMI'], ['LCD'], ['USB'], ['Wi-Fi']]}"
      ]
     },
     "execution_count": 6,
     "metadata": {},
     "output_type": "execute_result"
    }
   ],
   "source": [
    "C"
   ]
  },
  {
   "cell_type": "markdown",
   "id": "dbd7fc8a",
   "metadata": {},
   "source": [
    "# Définition des Sous_Ensembles fréquent avec le min_supp = 0.35"
   ]
  },
  {
   "cell_type": "code",
   "execution_count": 7,
   "id": "bc060469",
   "metadata": {},
   "outputs": [],
   "source": [
    "def print_table(T, supp_count):\n",
    "    print(\"Itemset | Support\")\n",
    "    for k in range(len(T)):\n",
    "        print(\"{} : {}\".format(T[k], supp_count[k]))\n",
    "    print(\"\\n\\n\")"
   ]
  },
  {
   "cell_type": "markdown",
   "id": "d9b65e13",
   "metadata": {},
   "source": [
    "#####  Nous définissons d'abord \"f\", \"sup\" et \"new_discarded\" en utilisant la fonction \"get_frequent\" pour les éléments de taille 1 dans \"C\". Nous mettons à jour \"discarded\" en ajoutant les éléments abandonnés de cette étape et \"L\" en ajoutant les éléments fréquents obtenus. \n"
   ]
  },
  {
   "cell_type": "code",
   "execution_count": 8,
   "id": "1cd09083",
   "metadata": {},
   "outputs": [],
   "source": [
    "supp_count_L = {}\n",
    "f, sup, new_discarded = get_frequent(C[itemset_size], Transactions, min_support, discarded)\n",
    "discarded.update({itemset_size : new_discarded})\n",
    "L.update({itemset_size : f})\n",
    "supp_count_L.update({itemset_size : sup})"
   ]
  },
  {
   "cell_type": "code",
   "execution_count": 9,
   "id": "640abf8f",
   "metadata": {},
   "outputs": [
    {
     "name": "stdout",
     "output_type": "stream",
     "text": [
      "Taille 1 \n",
      "\n",
      "\n",
      "Itemset | Support\n",
      "['Bluetooth'] : 5\n",
      "['GPS'] : 3\n",
      "['LCD'] : 3\n",
      "['USB'] : 3\n",
      "['Wi-Fi'] : 5\n",
      "\n",
      "\n",
      "\n"
     ]
    }
   ],
   "source": [
    "print(\"Taille 1 \\n\\n\")\n",
    "print_table(L[1], supp_count_L[1])"
   ]
  },
  {
   "cell_type": "code",
   "execution_count": 10,
   "id": "c1c4c54c",
   "metadata": {},
   "outputs": [
    {
     "data": {
      "text/plain": [
       "{1: [['Bluetooth'], ['GPS'], ['LCD'], ['USB'], ['Wi-Fi']]}"
      ]
     },
     "execution_count": 10,
     "metadata": {},
     "output_type": "execute_result"
    }
   ],
   "source": [
    "L"
   ]
  },
  {
   "cell_type": "markdown",
   "id": "131274c8",
   "metadata": {},
   "source": [
    "### Ce code implémente l'algorithme d'analyse des ensembles fréquents Apriori. Il définit un processus itératif pour trouver des ensembles fréquents à partir de données de transactions.\n",
    "\n",
    "##### À chaque tour de boucle, un nouvel ensemble C est créé en joignant les ensembles fréquents de la tour précédente.\n",
    "##### Les occurrences de chaque ensemble candidat dans les transactions sont ensuite déterminées.\n",
    "##### Les ensembles candidats qui ne répondent pas au critère de support minimum sont marqués comme des ensembles rejetés pour les itérations ultérieures.\n",
    "##### Les ensembles candidats qui répondent au critère de support minimum sont marqués comme des ensembles fréquents pour cette itération."
   ]
  },
  {
   "cell_type": "code",
   "execution_count": 11,
   "id": "ce357bc0",
   "metadata": {},
   "outputs": [
    {
     "name": "stdout",
     "output_type": "stream",
     "text": [
      "Table C2: \n",
      "\n",
      "Itemset | Support\n",
      "['Bluetooth', 'GPS'] : 3\n",
      "['Bluetooth', 'LCD'] : 3\n",
      "['Bluetooth', 'USB'] : 2\n",
      "['Bluetooth', 'Wi-Fi'] : 4\n",
      "['LCD', 'GPS'] : 2\n",
      "['GPS', 'USB'] : 2\n",
      "['Wi-Fi', 'GPS'] : 3\n",
      "['LCD', 'USB'] : 1\n",
      "['LCD', 'Wi-Fi'] : 2\n",
      "['Wi-Fi', 'USB'] : 3\n",
      "\n",
      "\n",
      "\n",
      "Table L2: \n",
      "\n",
      "Itemset | Support\n",
      "['Bluetooth', 'GPS'] : 3\n",
      "['Bluetooth', 'LCD'] : 3\n",
      "['Bluetooth', 'Wi-Fi'] : 4\n",
      "['Wi-Fi', 'GPS'] : 3\n",
      "['Wi-Fi', 'USB'] : 3\n",
      "\n",
      "\n",
      "\n",
      "Table C3: \n",
      "\n",
      "Itemset | Support\n",
      "['Bluetooth', 'LCD', 'GPS'] : 2\n",
      "['Bluetooth', 'Wi-Fi', 'GPS'] : 3\n",
      "['Bluetooth', 'Wi-Fi', 'GPS', 'USB'] : 2\n",
      "['Bluetooth', 'Wi-Fi', 'LCD'] : 2\n",
      "['Bluetooth', 'Wi-Fi', 'LCD', 'GPS'] : 2\n",
      "['Bluetooth', 'Wi-Fi', 'LCD', 'USB'] : 1\n",
      "['Bluetooth', 'Wi-Fi', 'USB'] : 2\n",
      "['Wi-Fi', 'GPS', 'USB'] : 2\n",
      "\n",
      "\n",
      "\n",
      "Table L3: \n",
      "\n",
      "Itemset | Support\n",
      "['Bluetooth', 'Wi-Fi', 'GPS'] : 3\n",
      "\n",
      "\n",
      "\n",
      "Table C4: \n",
      "\n",
      "Itemset | Support\n",
      "\n",
      "\n",
      "\n"
     ]
    }
   ],
   "source": [
    "k = itemset_size + 1\n",
    "convergence = False\n",
    "while not convergence:\n",
    "    C.update({ k : join_set_itemsets(L[k-1])})\n",
    "    print(\"Table C{}: \\n\".format(k))\n",
    "    print_table(C[k], [count_occurences(it, Transactions) for it in C[k]])\n",
    "    f, sup, new_discarded = get_frequent(C[k], Transactions, min_support, discarded)\n",
    "    discarded.update({k : new_discarded})\n",
    "    L.update({k : f})\n",
    "    supp_count_L.update({k : sup})\n",
    "    if len(L[k]) == 0:\n",
    "        convergence = True\n",
    "    else:\n",
    "        print(\"Table L{}: \\n\".format(k))\n",
    "        print_table(L[k], supp_count_L[k])\n",
    "    k += 1 "
   ]
  },
  {
   "cell_type": "code",
   "execution_count": 17,
   "id": "769f02a7",
   "metadata": {},
   "outputs": [
    {
     "name": "stdout",
     "output_type": "stream",
     "text": [
      "Ensemble Frequent:\n",
      "['Bluetooth']\n",
      "['GPS']\n",
      "['LCD']\n",
      "['USB']\n",
      "['Wi-Fi']\n",
      "['Bluetooth', 'GPS']\n",
      "['Bluetooth', 'LCD']\n",
      "['Bluetooth', 'Wi-Fi']\n",
      "['Wi-Fi', 'GPS']\n",
      "['Wi-Fi', 'USB']\n",
      "['Bluetooth', 'Wi-Fi', 'GPS']\n"
     ]
    }
   ],
   "source": [
    "print(\"Ensemble Frequent:\")\n",
    "for itemset in L.values():\n",
    "    for item in itemset:\n",
    "        print(item)    "
   ]
  },
  {
   "cell_type": "markdown",
   "id": "f59ec810",
   "metadata": {},
   "source": [
    "# Défnition des Règles de Gestion"
   ]
  },
  {
   "cell_type": "markdown",
   "id": "c32cfc75",
   "metadata": {},
   "source": [
    "##### Cette fonction powerset permet de générer tous les sous-ensembles possibles d'un ensemble .\n",
    "\n",
    "La fonction utilise la bibliothèque itertools et sa fonction combinations pour créer les combinaisons d'éléments à partir de l'ensemble \"s\" avec une longueur allant de 1 à la longueur totale de \"s\". Le résultat est ensuite concaténé à l'aide de la fonction chain.from_iterable pour obtenir la liste complète de tous les sous-ensembles."
   ]
  },
  {
   "cell_type": "code",
   "execution_count": 13,
   "id": "a8dcf515",
   "metadata": {},
   "outputs": [],
   "source": [
    "from itertools import combinations, chain\n",
    "def powerset(s):\n",
    "    return list(chain.from_iterable(combinations(s, r) for r in range(1, len(s) + 1)))"
   ]
  },
  {
   "cell_type": "markdown",
   "id": "a73574fd",
   "metadata": {},
   "source": [
    "##### La fonction write_rules prend en entrée les éléments suivants :\n",
    "\n",
    "La fonction retourne une chaîne de caractères qui représente la règle d'association générée à partir des entrées. La chaîne de caractères comprend l'itemset fréquent, la règle d'association, et la confiance de la règle."
   ]
  },
  {
   "cell_type": "code",
   "execution_count": 14,
   "id": "b0655fad",
   "metadata": {},
   "outputs": [],
   "source": [
    "def write_rules(X, X_S, S, conf, num_trans):\n",
    "    out_rules = \"\"\n",
    "    out_rules += \"Freq. Itemset: {}\\n\\n\".format(X)\n",
    "    out_rules += \"     Rule:{} -> {} \\n\".format(list(S), list(X_S))\n",
    "    out_rules += \"     Conf:{0:2.3f} \\n\\n\".format(conf)\n",
    "    return out_rules"
   ]
  },
  {
   "cell_type": "markdown",
   "id": "1c7a8eb7",
   "metadata": {},
   "source": [
    "#### C'est une fonction pour écrire les règles d'association à partir des itemsets fréquents. Elle prend en entrée les itemsets fréquents L, le nombre de transactions (num_trans) et la minimale valeur de confiance (min_conf)."
   ]
  },
  {
   "cell_type": "code",
   "execution_count": 15,
   "id": "a25380f6",
   "metadata": {},
   "outputs": [],
   "source": [
    "assoc_rules_str = \"\"\n",
    "for i in range(1, len(L)):\n",
    "    for j in range(len(L[i])):\n",
    "        s = list(powerset(set(L[i][j])))\n",
    "        s.pop()\n",
    "        for z in s:\n",
    "            S = set(z)\n",
    "            X = set(L[i][j])\n",
    "            X_S = set(X-S)\n",
    "            sup_x = count_occurences(X, Transactions)\n",
    "            sup_x_s = count_occurences(X_S, Transactions)\n",
    "            conf = sup_x / count_occurences(S, Transactions)\n",
    "            if conf >= min_conf and sup_x >= min_support:\n",
    "                assoc_rules_str += write_rules(X, X_S, S, conf, num_trans)"
   ]
  },
  {
   "cell_type": "markdown",
   "id": "70800f57",
   "metadata": {},
   "source": [
    "## Les Règles de Gestion:"
   ]
  },
  {
   "cell_type": "code",
   "execution_count": 16,
   "id": "dbc412e5",
   "metadata": {},
   "outputs": [
    {
     "name": "stdout",
     "output_type": "stream",
     "text": [
      "Freq. Itemset: {'Bluetooth', 'GPS'}\n",
      "\n",
      "     Rule:['Bluetooth'] -> ['GPS'] \n",
      "     Conf:0.600 \n",
      "\n",
      "Freq. Itemset: {'Bluetooth', 'GPS'}\n",
      "\n",
      "     Rule:['GPS'] -> ['Bluetooth'] \n",
      "     Conf:1.000 \n",
      "\n",
      "Freq. Itemset: {'Bluetooth', 'LCD'}\n",
      "\n",
      "     Rule:['Bluetooth'] -> ['LCD'] \n",
      "     Conf:0.600 \n",
      "\n",
      "Freq. Itemset: {'Bluetooth', 'LCD'}\n",
      "\n",
      "     Rule:['LCD'] -> ['Bluetooth'] \n",
      "     Conf:1.000 \n",
      "\n",
      "Freq. Itemset: {'Bluetooth', 'Wi-Fi'}\n",
      "\n",
      "     Rule:['Bluetooth'] -> ['Wi-Fi'] \n",
      "     Conf:0.800 \n",
      "\n",
      "Freq. Itemset: {'Bluetooth', 'Wi-Fi'}\n",
      "\n",
      "     Rule:['Wi-Fi'] -> ['Bluetooth'] \n",
      "     Conf:0.800 \n",
      "\n",
      "Freq. Itemset: {'Wi-Fi', 'GPS'}\n",
      "\n",
      "     Rule:['Wi-Fi'] -> ['GPS'] \n",
      "     Conf:0.600 \n",
      "\n",
      "Freq. Itemset: {'Wi-Fi', 'GPS'}\n",
      "\n",
      "     Rule:['GPS'] -> ['Wi-Fi'] \n",
      "     Conf:1.000 \n",
      "\n",
      "Freq. Itemset: {'Wi-Fi', 'USB'}\n",
      "\n",
      "     Rule:['Wi-Fi'] -> ['USB'] \n",
      "     Conf:0.600 \n",
      "\n",
      "Freq. Itemset: {'Wi-Fi', 'USB'}\n",
      "\n",
      "     Rule:['USB'] -> ['Wi-Fi'] \n",
      "     Conf:1.000 \n",
      "\n",
      "Freq. Itemset: {'Bluetooth', 'Wi-Fi', 'GPS'}\n",
      "\n",
      "     Rule:['Bluetooth'] -> ['Wi-Fi', 'GPS'] \n",
      "     Conf:0.600 \n",
      "\n",
      "Freq. Itemset: {'Bluetooth', 'Wi-Fi', 'GPS'}\n",
      "\n",
      "     Rule:['Wi-Fi'] -> ['Bluetooth', 'GPS'] \n",
      "     Conf:0.600 \n",
      "\n",
      "Freq. Itemset: {'Bluetooth', 'Wi-Fi', 'GPS'}\n",
      "\n",
      "     Rule:['GPS'] -> ['Bluetooth', 'Wi-Fi'] \n",
      "     Conf:1.000 \n",
      "\n",
      "Freq. Itemset: {'Bluetooth', 'Wi-Fi', 'GPS'}\n",
      "\n",
      "     Rule:['Bluetooth', 'Wi-Fi'] -> ['GPS'] \n",
      "     Conf:0.750 \n",
      "\n",
      "Freq. Itemset: {'Bluetooth', 'Wi-Fi', 'GPS'}\n",
      "\n",
      "     Rule:['Bluetooth', 'GPS'] -> ['Wi-Fi'] \n",
      "     Conf:1.000 \n",
      "\n",
      "Freq. Itemset: {'Bluetooth', 'Wi-Fi', 'GPS'}\n",
      "\n",
      "     Rule:['Wi-Fi', 'GPS'] -> ['Bluetooth'] \n",
      "     Conf:1.000 \n",
      "\n",
      "\n"
     ]
    }
   ],
   "source": [
    "print(assoc_rules_str)"
   ]
  },
  {
   "cell_type": "code",
   "execution_count": null,
   "id": "b735ae9e",
   "metadata": {},
   "outputs": [],
   "source": []
  },
  {
   "cell_type": "code",
   "execution_count": null,
   "id": "894a1784",
   "metadata": {},
   "outputs": [],
   "source": []
  }
 ],
 "metadata": {
  "kernelspec": {
   "display_name": "Python 3 (ipykernel)",
   "language": "python",
   "name": "python3"
  },
  "language_info": {
   "codemirror_mode": {
    "name": "ipython",
    "version": 3
   },
   "file_extension": ".py",
   "mimetype": "text/x-python",
   "name": "python",
   "nbconvert_exporter": "python",
   "pygments_lexer": "ipython3",
   "version": "3.9.13"
  }
 },
 "nbformat": 4,
 "nbformat_minor": 5
}
